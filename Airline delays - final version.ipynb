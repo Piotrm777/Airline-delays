{
 "cells": [
  {
   "cell_type": "code",
   "execution_count": 33,
   "metadata": {},
   "outputs": [],
   "source": [
    "import pandas as pd\n",
    "import numpy as np\n",
    "import arrow\n",
    "from collections import defaultdict\n",
    "\n",
    "#Boosting\n",
    "import xgboost as xgb"
   ]
  },
  {
   "cell_type": "markdown",
   "metadata": {},
   "source": [
    "### Defining functions for feature engineering"
   ]
  },
  {
   "cell_type": "code",
   "execution_count": 34,
   "metadata": {},
   "outputs": [],
   "source": [
    "def factorizing(dataset):\n",
    "    cat_feats = dataset.select_dtypes(include=[np.object]).columns\n",
    "    factorized_dict = {}\n",
    "    for cat_feat in cat_feats:\n",
    "        factorized_dict[cat_feat] = pd.factorize(dataset[cat_feat])[1]\n",
    "    return factorized_dict\n",
    "\n",
    "def create_labels(dataset):\n",
    "    cat_feats = dataset.select_dtypes(include=[np.object]).columns\n",
    "\n",
    "    for cat_feat in cat_feats:\n",
    "        dataset['{}_cat'.format(cat_feat)] = dataset[cat_feat].map(\n",
    "            lambda x: factorized_dict[cat_feat].get_loc(x))"
   ]
  },
  {
   "cell_type": "code",
   "execution_count": 35,
   "metadata": {},
   "outputs": [],
   "source": [
    "#Loading a file with all days from years 2006-2008 in format YYYYMMDD\n",
    "all_days = pd.read_csv('../notebooks/all_days.csv')\n",
    "#calculating how far is each day in years 2006-2008 from the nearest holiday\n",
    "US_hol = ['20060101', '20060116', '20060220', '20060529', '20060704', '20060904', '20061009', \n",
    "          '20061111', '20061123', '20061225', '20070101', '20070115', '20070219', '20070528', \n",
    "          '20070704', '20070903', '20071008', '20071111', '20071122', '20071225', '20080101',\n",
    "          '20080121', '20080218', '20080526', '20080704', '20080901', '20081013', '20081111', \n",
    "          '20081127', '20081225', '20090101']\n",
    "dict_hol = {}\n",
    "for day in all_days['All_days'].astype(str):\n",
    "    days_to = -1000\n",
    "    i=0\n",
    "    while days_to < 0:    \n",
    "        days_to = (arrow.get(US_hol[i], 'YYYYMMDD') - arrow.get(day, 'YYYYMMDD')).days\n",
    "        i+=1\n",
    "    dict_hol[day] = days_to\n",
    "\n",
    "# mapping holiday dictionary to days\n",
    "all_days['days_to_holiday'] = all_days['All_days'].astype(str).map(dict_hol)\n",
    "# fake year dictionary to help with holidays\n",
    "fake_year = {'0': '2006', '1': '2007', '2':'2008'}\n",
    "\n",
    "def feat_eng(dataset, train_set=False):\n",
    "    # for data calculations\n",
    "    dataset['month_str'] = dataset['month'].astype(str)\n",
    "    dataset['day_of_month_str'] = dataset['day_of_month'].astype(str)\n",
    "\n",
    "    dataset['month_2g'] = dataset['month_str'].apply(lambda x: x if len(x)==2 else '0' + str(x))\n",
    "    dataset['day_of_month_2g'] = dataset['day_of_month_str'].apply(lambda x: x if len(x)==2 else '0' + str(x))\n",
    "    \n",
    "    # assigning a fake year to 'year' for holiday calculations\n",
    "    dataset['fake_year'] = dataset['year'].apply(lambda x: fake_year[str(x)])\n",
    "    \n",
    "    # combining year, month, day for arrow calculations\n",
    "    dataset['full_date'] = dataset[['fake_year', 'month_2g', 'day_of_month_2g']].apply(lambda x: ''.join(x), axis=1)\n",
    "    \n",
    "    dataset['is_holiday'] = dataset['full_date'].apply(lambda x: True if x in US_hol else False)\n",
    "    dataset['days_to_holiday'] = dataset['full_date'].map(dict_hol)\n",
    "    \n",
    "    dataset['is_tail_number10'] = dataset['tail_number']==10\n",
    "    dataset['is_tail_numberNA'] = dataset['tail_number']==-1\n",
    "    dataset['is_tail_number1679'] = dataset['tail_number']==1679\n",
    "    \n",
    "    if train_set:\n",
    "        dataset['is_delayed_15'] = dataset['target_delay']>15"
   ]
  },
  {
   "cell_type": "markdown",
   "metadata": {},
   "source": [
    "### Data preparation"
   ]
  },
  {
   "cell_type": "code",
   "execution_count": 36,
   "metadata": {},
   "outputs": [],
   "source": [
    "#import datasets\n",
    "test = pd.read_csv('../input/test_airline_delay.csv')\n",
    "train = pd.read_hdf('../input/train_airline_delay.h5')"
   ]
  },
  {
   "cell_type": "code",
   "execution_count": 37,
   "metadata": {},
   "outputs": [],
   "source": [
    "#Loading file details about airports\n",
    "airports = pd.read_csv('../input/airports.csv')\n",
    "#dictionary to fill NA in airports\n",
    "air_fill = {'MQT':'MI', \n",
    "            'CLD':'CA', \n",
    "            'HHH':'NC', \n",
    "            'SCE':'PA',\n",
    "            'MIB':'ND',\n",
    "            'RCA':'SD',\n",
    "            'RDR':'ND',\n",
    "            'ROP':'THA',\n",
    "            'ROR':'PAL',\n",
    "            'SKA':'WA',\n",
    "            'SPN':'NMI',\n",
    "            'YAP':'YAP'}\n",
    "\n",
    "#Fill NA\n",
    "airports['state'] = airports['state'].fillna(airports['iata'].map(air_fill))\n",
    "\n",
    "#Adding additional columns to distinguish later between origin and destination\n",
    "airports['state_dest'] = airports['state']\n",
    "airports['state_orig'] = airports['state']\n",
    "\n",
    "airports['lat_dest'] = airports['lat']\n",
    "airports['lat_orig'] = airports['lat']\n",
    "\n",
    "airports['long_dest'] = airports['long']\n",
    "airports['long_orig'] = airports['long']"
   ]
  },
  {
   "cell_type": "code",
   "execution_count": 38,
   "metadata": {},
   "outputs": [],
   "source": [
    "###merging datasets with airports. \n",
    "#for Origin\n",
    "train_merged0 = pd.merge(train, airports[['iata', 'lat_orig', 'long_orig', 'state_orig']], \n",
    "                         left_on='origin', right_on='iata', how='left')\n",
    "train_merged = pd.merge(train_merged0, airports[['iata', 'lat_dest', 'long_dest', 'state_dest']], \n",
    "                        left_on='destination', right_on='iata', how='left')\n",
    "#for Destination\n",
    "test_merged0 = pd.merge(test, airports[['iata', 'lat_orig', 'long_orig', 'state_orig']], \n",
    "                        left_on='origin', right_on='iata', how='left')\n",
    "test_merged = pd.merge(test_merged0, airports[['iata', 'lat_dest', 'long_dest', 'state_dest']], \n",
    "                       left_on='destination', right_on='iata', how='left')\n",
    "\n",
    "#removing duplicated columns\n",
    "train_merged.drop(columns=['iata_y', 'iata_x'], inplace=True)\n",
    "test_merged.drop(columns=['iata_y', 'iata_x'], inplace=True)"
   ]
  },
  {
   "cell_type": "code",
   "execution_count": 39,
   "metadata": {},
   "outputs": [
    {
     "name": "stdout",
     "output_type": "stream",
     "text": [
      "CPU times: user 23.4 s, sys: 424 ms, total: 23.8 s\n",
      "Wall time: 23.7 s\n",
      "CPU times: user 23.4 s, sys: 392 ms, total: 23.8 s\n",
      "Wall time: 23.2 s\n"
     ]
    }
   ],
   "source": [
    "combined_merged = pd.concat([train_merged, test_merged], sort=False)\n",
    "factorized_dict = factorizing(combined_merged)\n",
    "create_labels(train_merged)\n",
    "create_labels(test_merged)\n",
    "\n",
    "# filling NA for carrier_delay with 0 if target_delay=0 or target_delay=4320\n",
    "train_merged['carrier_delay'] = train_merged.apply(lambda x: 0 if (x['target_delay']==0) | (x['target_delay']==4320) else x['carrier_delay'], axis=1)\n",
    "\n",
    "# filling carrier_delay with 4320 if cancelled by carrier\n",
    "train_merged['carrier_delay'] = train_merged.apply(lambda x: 4320 if x['cancellation_code']==1 else x['carrier_delay'], axis=1)\n",
    "\n",
    "#fill NA for all other with -1\n",
    "train_merged.fillna(-1, inplace=True)\n",
    "test_merged.fillna(-1, inplace=True)\n",
    "\n",
    "#creating new features\n",
    "%time feat_eng(train_merged, train_set=True)\n",
    "%time feat_eng(test_merged)"
   ]
  },
  {
   "cell_type": "markdown",
   "metadata": {},
   "source": [
    "### Creating aggregated features"
   ]
  },
  {
   "cell_type": "code",
   "execution_count": 40,
   "metadata": {},
   "outputs": [],
   "source": [
    "dict_agg = train_merged[ ['carrier_id'] + ['carrier_delay'] ].groupby(['carrier_id']).agg(np.mean).to_dict()['carrier_delay']\n",
    "new_feat = 'agg_carrier_id_mean_carrier_delay'\n",
    "\n",
    "default_dict_val = np.mean( list(dict_agg.values()))\n",
    "default_dict_agg = defaultdict(lambda: default_dict_val, dict_agg)\n",
    "\n",
    "train_merged[new_feat] = train_merged['carrier_id'].map(lambda x: default_dict_agg[x])\n",
    "test_merged[new_feat] = test_merged['carrier_id'].map(lambda x: default_dict_agg[x])"
   ]
  },
  {
   "cell_type": "code",
   "execution_count": 41,
   "metadata": {},
   "outputs": [],
   "source": [
    "agg_feats = [\n",
    "    ['carrier_id'], ['tail_number']\n",
    "]"
   ]
  },
  {
   "cell_type": "code",
   "execution_count": 42,
   "metadata": {},
   "outputs": [],
   "source": [
    "for agg_feat in agg_feats:\n",
    "    dict_agg = train_merged[ agg_feat + ['is_delayed_15'] ].groupby(agg_feat).agg(np.mean).to_dict()['is_delayed_15']\n",
    "    new_feat = 'agg_{}_mean_delay_15'.format(agg_feat[0])\n",
    "\n",
    "    default_dict_val = np.mean( list(dict_agg.values()))\n",
    "    default_dict_agg = defaultdict(lambda: default_dict_val, dict_agg)\n",
    "\n",
    "    train_merged[new_feat] = train_merged[agg_feat[0]].map(lambda x: default_dict_agg[x])\n",
    "    test_merged[new_feat] = test_merged[agg_feat[0]].map(lambda x: default_dict_agg[x])"
   ]
  },
  {
   "cell_type": "markdown",
   "metadata": {},
   "source": [
    "### Removing unused columns"
   ]
  },
  {
   "cell_type": "code",
   "execution_count": 44,
   "metadata": {},
   "outputs": [],
   "source": [
    "drop_columns = ['month_str', 'day_of_month_str', 'month_2g', 'day_of_month_2g', 'fake_year', 'full_date',\n",
    "               'actual_departure_time', 'actual_arrival_time', 'air_time', 'arrival_delay', 'depature_delay',\n",
    "               'flight_number', 'tail_number', 'actual_elapsed_time', 'scheduled_elapsed_time', 'origin', \n",
    "                'destination', 'distance', 'is_cancelled', 'cancellation_code', 'carrier_delay', 'weather_delay',\n",
    "                'nas_delay', 'security_delay', 'late_aircraft_delay', 'is_diverted', 'is_delayed_15']"
   ]
  },
  {
   "cell_type": "code",
   "execution_count": 45,
   "metadata": {},
   "outputs": [],
   "source": [
    "train_merged.drop(columns=drop_columns, inplace=True)"
   ]
  },
  {
   "cell_type": "markdown",
   "metadata": {},
   "source": [
    "### Model "
   ]
  },
  {
   "cell_type": "code",
   "execution_count": 47,
   "metadata": {},
   "outputs": [],
   "source": [
    "sel_feats = [\n",
    "# from original features\n",
    "            'year', 'month', 'day_of_month', 'day_of_week',\n",
    "             'scheduled_departure_time',\n",
    "             'scheduled_arrival_time', \n",
    "             'carrier_id', \n",
    "             'origin_cat', 'destination_cat',\n",
    "# holiday\n",
    "             'is_holiday',\n",
    "             'days_to_holiday',\n",
    "# tails having most cancelled\n",
    "             'is_tail_number10',\n",
    "             'is_tail_numberNA',\n",
    "             'is_tail_number1679',\n",
    "# from airports\n",
    "             'lat_orig', 'long_orig',\n",
    "             'lat_dest', 'long_dest', \n",
    "             'state_orig_cat', 'state_dest_cat',\n",
    "# aggregated features\n",
    "             'agg_tail_number_mean_delay_15',\n",
    "             'agg_carrier_id_mean_delay_15', \n",
    "             'agg_carrier_id_mean_carrier_delay',\n",
    "\n",
    "            ]"
   ]
  },
  {
   "cell_type": "code",
   "execution_count": 48,
   "metadata": {},
   "outputs": [
    {
     "name": "stdout",
     "output_type": "stream",
     "text": [
      "CPU times: user 14min 59s, sys: 2.35 s, total: 15min 2s\n",
      "Wall time: 3min 47s\n"
     ]
    }
   ],
   "source": [
    "#Kaggle, Private: 1.52871; Public: 1.52553\n",
    "np.random.seed(2019)\n",
    "\n",
    "xgb_params = {\n",
    "    'n_jobs': 4,\n",
    "    'max_depth': 12, \n",
    "    'learning_rate': 0.09, \n",
    "    'min_child_weight': 2, \n",
    "    'random_state': 2019\n",
    "}\n",
    "\n",
    "X = train_merged[sel_feats].values\n",
    "y = train_merged['target_delay'].values\n",
    "y_log = np.log1p(y)\n",
    "\n",
    "model = xgb.XGBRegressor(**xgb_params)\n",
    "%time model.fit(X, y_log)"
   ]
  },
  {
   "cell_type": "markdown",
   "metadata": {},
   "source": [
    "### Predicting on test set"
   ]
  },
  {
   "cell_type": "code",
   "execution_count": 51,
   "metadata": {},
   "outputs": [],
   "source": [
    "#Prediction\n",
    "X_test = test_merged[sel_feats].values\n",
    "y_pred_log = model.predict(X_test)\n",
    "y_pred = np.expm1(y_pred_log)"
   ]
  },
  {
   "cell_type": "code",
   "execution_count": 52,
   "metadata": {},
   "outputs": [],
   "source": [
    "#Adding to the test dataset \n",
    "test_merged['target_delay'] = y_pred\n",
    "\n",
    "#Correcting edge values\n",
    "test_merged['target_delay'] = test_merged['target_delay'].apply(\n",
    "    lambda x: x if x>0 else 0)\n",
    "test_merged['target_delay'] = test_merged['target_delay'].apply(\n",
    "    lambda x: x if x<3000 else 4320)"
   ]
  },
  {
   "cell_type": "code",
   "execution_count": 53,
   "metadata": {},
   "outputs": [],
   "source": [
    "#Creating model for submission\n",
    "test_merged[['id', 'target_delay'] ].to_csv('../output/submit_xgb_final.csv', index=False)"
   ]
  },
  {
   "cell_type": "markdown",
   "metadata": {},
   "source": [
    "### Feature Importances"
   ]
  },
  {
   "cell_type": "code",
   "execution_count": 54,
   "metadata": {},
   "outputs": [],
   "source": [
    "import matplotlib.pyplot as plt\n",
    "%matplotlib inline\n",
    "\n",
    "def draw_feature_importances(model, features):\n",
    "    importances = model.feature_importances_\n",
    "    indices = np.argsort(importances)[::-1]\n",
    "\n",
    "    plt.figure(figsize=(10, 5))\n",
    "    plt.title(\"Feature importances\")\n",
    "    plt.bar(range(X.shape[1]), model.feature_importances_[indices],\n",
    "           color=\"b\", align=\"center\")\n",
    "    plt.xticks(range(X.shape[1]), [ features[x] for x in indices])\n",
    "    plt.xticks(rotation=90)\n",
    "    plt.xlim([-1, X.shape[1]])\n",
    "    plt.show()"
   ]
  },
  {
   "cell_type": "code",
   "execution_count": 55,
   "metadata": {},
   "outputs": [
    {
     "data": {
      "image/png": "[encoded data removed]",
      "text/plain": [
       "<Figure size 720x360 with 1 Axes>"
      ]
     },
     "metadata": {
      "needs_background": "light"
     },
     "output_type": "display_data"
    }
   ],
   "source": [
    "draw_feature_importances(model, sel_feats)"
   ]
  }
 ],
 "metadata": {
  "kernelspec": {
   "display_name": "Python 3",
   "language": "python",
   "name": "python3"
  },
  "language_info": {
   "codemirror_mode": {
    "name": "ipython",
    "version": 3
   },
   "file_extension": ".py",
   "mimetype": "text/x-python",
   "name": "python",
   "nbconvert_exporter": "python",
   "pygments_lexer": "ipython3",
   "version": "3.6.8"
  }
 },
 "nbformat": 4,
 "nbformat_minor": 2
}
